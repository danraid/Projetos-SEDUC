{
  "nbformat": 4,
  "nbformat_minor": 0,
  "metadata": {
    "colab": {
      "provenance": []
    },
    "kernelspec": {
      "name": "python3",
      "display_name": "Python 3"
    },
    "language_info": {
      "name": "python"
    }
  },
  "cells": [
    {
      "cell_type": "code",
      "execution_count": 4,
      "metadata": {
        "id": "EBlJuoWjA8H0"
      },
      "outputs": [],
      "source": [
        "import pandas as pd\n",
        "import random\n",
        "from collections import defaultdict, namedtuple"
      ]
    },
    {
      "cell_type": "code",
      "source": [
        "# =========================================================================\n",
        "# PARÂMETROS GERAIS\n",
        "# =========================================================================\n",
        "dias_semana = [\"SEG\", \"TER\", \"QUA\", \"QUI\", \"SEX\"]\n",
        "tempos = [1,2,3,4,5]"
      ],
      "metadata": {
        "id": "UMIZ4njfBGPK"
      },
      "execution_count": 5,
      "outputs": []
    },
    {
      "cell_type": "code",
      "source": [
        "# =========================================================================\n",
        "# 1) LEITURA DOS ARQUIVOS\n",
        "# =========================================================================\n",
        "df_prof = pd.read_excel(\"professores.xlsx\")\n",
        "df_demanda_raw = pd.read_excel(\"demanda.xlsx\")"
      ],
      "metadata": {
        "id": "qdg3gSM5BIfP"
      },
      "execution_count": 6,
      "outputs": []
    },
    {
      "cell_type": "code",
      "source": [
        "# =========================================================================\n",
        "# 2) CRIAR DICIONÁRIO DE DISPONIBILIDADE\n",
        "#    disponib[prof][turno][dia][tempo] = True/False\n",
        "# =========================================================================\n",
        "disponib = {}\n",
        "for i, row in df_prof.iterrows():\n",
        "    servidor = row[\"SERVIDOR\"]\n",
        "    turno    = row[\"TURNO\"]\n",
        "    if servidor not in disponib:\n",
        "        disponib[servidor] = {}\n",
        "    if turno not in disponib[servidor]:\n",
        "        disponib[servidor][turno] = {}\n",
        "    for d in dias_semana:\n",
        "        if d not in disponib[servidor][turno]:\n",
        "            disponib[servidor][turno][d] = {}\n",
        "        for t in tempos:\n",
        "            col = f\"{d}{t}\"\n",
        "            if col in row:\n",
        "                val = row[col]\n",
        "                disponib[servidor][turno][d][t] = (val == 1)\n",
        "            else:\n",
        "                disponib[servidor][turno][d][t] = False"
      ],
      "metadata": {
        "id": "pQRcKjZ_BL7J"
      },
      "execution_count": 7,
      "outputs": []
    },
    {
      "cell_type": "code",
      "source": [
        "# =========================================================================\n",
        "# 3) FILTRAR \"APOIO\" E MONTAR DEMANDA\n",
        "# =========================================================================\n",
        "df_demand = df_demanda_raw[df_demanda_raw[\"DISC\"] != \"APOIO\"].copy()\n",
        "Pedido = namedtuple(\"Pedido\", \"prof turno nivel serie turma disc ch\")\n",
        "demanda = []\n",
        "for i, row in df_demand.iterrows():\n",
        "    demanda.append(Pedido(\n",
        "        prof  = row[\"SERVIDOR\"],\n",
        "        turno = row[\"TURNO\"],\n",
        "        nivel = row[\"NIVEL\"],\n",
        "        serie = str(row[\"SERIE/ANO\"]),\n",
        "        turma = str(row[\"TURMA\"]),\n",
        "        disc  = row[\"DISC\"],\n",
        "        ch    = int(row[\"CH.TURMA\"])\n",
        "    ))"
      ],
      "metadata": {
        "id": "UVBZrMC8BO1k"
      },
      "execution_count": 8,
      "outputs": []
    },
    {
      "cell_type": "code",
      "source": [
        "# =========================================================================\n",
        "# 4) ESTRUTURA DE ALOCAÇÃO\n",
        "#    A estrutura:\n",
        "#      horario[turno][nivel][dia][(serie,turma)] = { tempo: (prof,disc) }\n",
        "# =========================================================================\n",
        "def cria_horario_vazio(demanda):\n",
        "    \"\"\"Gera a estrutura vazia para todos os (turno, nivel, dia, serie, turma) da demanda.\"\"\"\n",
        "    horario = {}\n",
        "    combos = set()\n",
        "    for ped in demanda:\n",
        "        combos.add((ped.turno, ped.nivel))\n",
        "    for (tnr, niv) in combos:\n",
        "        if tnr not in horario:\n",
        "            horario[tnr] = {}\n",
        "        if niv not in horario[tnr]:\n",
        "            horario[tnr][niv] = {}\n",
        "        for d in dias_semana:\n",
        "            horario[tnr][niv][d] = {}\n",
        "    for ped in demanda:\n",
        "        for d in dias_semana:\n",
        "            if (ped.serie, ped.turma) not in horario[ped.turno][ped.nivel][d]:\n",
        "                horario[ped.turno][ped.nivel][d][(ped.serie, ped.turma)] = {}\n",
        "    return horario"
      ],
      "metadata": {
        "id": "DMMlcYvkBRjf"
      },
      "execution_count": 9,
      "outputs": []
    },
    {
      "cell_type": "code",
      "source": [
        "# =========================================================================\n",
        "# 5) FUNÇÕES DE VERIFICAÇÃO DE REGRAS (heurísticas)\n",
        "# =========================================================================\n",
        "def professor_disponivel(prof, turno, dia, tempo):\n",
        "    if prof not in disponib: return False\n",
        "    if turno not in disponib[prof]: return False\n",
        "    return disponib[prof][turno][dia][tempo]\n",
        "\n",
        "def professor_ocupado_esse_tempo(horario, prof, turno, nivel, dia, tempo):\n",
        "    for (st, dicT) in horario[turno][nivel][dia].items():\n",
        "        if tempo in dicT:\n",
        "            (p, _) = dicT[tempo]\n",
        "            if p == prof:\n",
        "                return True\n",
        "    return False\n",
        "\n",
        "def turma_ja_tem_aula(horario, turno, nivel, dia, serie, turma, tempo):\n",
        "    return (tempo in horario[turno][nivel][dia][(serie, turma)])\n",
        "\n",
        "def check_buraco(horario, ped, dia):\n",
        "    dicT = horario[ped.turno][ped.nivel][dia][(ped.serie, ped.turma)]\n",
        "    if not dicT: return False\n",
        "    tempos_ocup = sorted(dicT.keys())\n",
        "    if tempos_ocup[0] != 1: return True\n",
        "    maxi = max(tempos_ocup)\n",
        "    for x in range(1, maxi+1):\n",
        "        if x not in dicT:\n",
        "            return True\n",
        "    return False\n",
        "\n",
        "def professor_turma_ja_usou_dia(horario, ped, dia):\n",
        "    \"\"\"Regra: para o mesmo pedido, o professor não pode ter mais de 1 tempo no mesmo dia.\"\"\"\n",
        "    dicTurma = horario[ped.turno][ped.nivel][dia][(ped.serie, ped.turma)]\n",
        "    for (tm, (p, _)) in dicTurma.items():\n",
        "        if p == ped.prof:\n",
        "            return True\n",
        "    return False\n",
        "\n",
        "def alocar_1tempo(horario, ped, dia, tempo):\n",
        "    horario[ped.turno][ped.nivel][dia][(ped.serie, ped.turma)][tempo] = (ped.prof, ped.disc)\n",
        "\n",
        "def desalocar_1tempo(horario, ped, dia, tempo):\n",
        "    dicTurma = horario[ped.turno][ped.nivel][dia][(ped.serie, ped.turma)]\n",
        "    if tempo in dicTurma:\n",
        "        del dicTurma[tempo]\n",
        "\n",
        "def pode_alocar(horario, ped, dia, tempo):\n",
        "    # Verifica disponibilidade e se professor não está em outra turma no mesmo slot\n",
        "    if not professor_disponivel(ped.prof, ped.turno, dia, tempo):\n",
        "        return False\n",
        "    if professor_ocupado_esse_tempo(horario, ped.prof, ped.turno, ped.nivel, dia, tempo):\n",
        "        return False\n",
        "    # Regra: cada professor não pode ter mais de 1 tempo na mesma turma no mesmo dia\n",
        "    if professor_turma_ja_usou_dia(horario, ped, dia):\n",
        "        return False\n",
        "    # Testa alocação temporária para verificar buraco\n",
        "    alocar_1tempo(horario, ped, dia, tempo)\n",
        "    if check_buraco(horario, ped, dia):\n",
        "        desalocar_1tempo(horario, ped, dia, tempo)\n",
        "        return False\n",
        "    return True"
      ],
      "metadata": {
        "id": "3Wh4TdtdBUeQ"
      },
      "execution_count": 10,
      "outputs": []
    },
    {
      "cell_type": "code",
      "source": [
        "# =========================================================================\n",
        "# 6) HEURÍSTICA PRINCIPAL DE ALOCAÇÃO (iterada)\n",
        "# =========================================================================\n",
        "NUM_ITERACOES = 10000  # Número de iterações da busca heurística\n",
        "\n",
        "def alocar_demanda(horario, demanda):\n",
        "    nao_alocados = []\n",
        "    dem_local = list(demanda)\n",
        "    random.shuffle(dem_local)\n",
        "    for ped in dem_local:\n",
        "        ch_rest = ped.ch\n",
        "        dias_rand = list(dias_semana)\n",
        "        random.shuffle(dias_rand)\n",
        "        for d in dias_rand:\n",
        "            if ch_rest <= 0:\n",
        "                break\n",
        "            tempos_rand = list(tempos)\n",
        "            random.shuffle(tempos_rand)\n",
        "            for t in tempos_rand:\n",
        "                if ch_rest <= 0:\n",
        "                    break\n",
        "                if pode_alocar(horario, ped, d, t):\n",
        "                    ch_rest -= 1\n",
        "        if ch_rest > 0:\n",
        "            nao_alocados.append((ped, ch_rest))\n",
        "    return nao_alocados\n",
        "\n",
        "def constroi_solucao(demanda):\n",
        "    horario_temp = cria_horario_vazio(demanda)\n",
        "    nao_aloc = alocar_demanda(horario_temp, demanda)\n",
        "    return horario_temp, nao_aloc\n",
        "\n",
        "melhor_horario = None\n",
        "melhor_nao_alocados = None\n",
        "menor_sobra = float(\"inf\")\n",
        "for i in range(NUM_ITERACOES):\n",
        "    horario_cand, nao_aloc_cand = constroi_solucao(demanda)\n",
        "    sobra = sum(x[1] for x in nao_aloc_cand)\n",
        "    if sobra < menor_sobra:\n",
        "        menor_sobra = sobra\n",
        "        melhor_horario = horario_cand\n",
        "        melhor_nao_alocados = nao_aloc_cand\n",
        "print(f\"Melhor solução após {NUM_ITERACOES} iterações: {menor_sobra} tempos não alocados (demanda).\")\n"
      ],
      "metadata": {
        "colab": {
          "base_uri": "https://localhost:8080/"
        },
        "id": "oFUTxONlBXKW",
        "outputId": "bb124302-bb8f-430d-86a3-780f4802cf61"
      },
      "execution_count": 15,
      "outputs": [
        {
          "output_type": "stream",
          "name": "stdout",
          "text": [
            "Melhor solução após 10000 iterações: 25 tempos não alocados (demanda).\n"
          ]
        }
      ]
    },
    {
      "cell_type": "code",
      "source": [
        "# =========================================================================\n",
        "# 7) MÉTODO DE AJUSTE FINO (FORÇADO) PARA ALINHAR OS TEMPOS REMANECENTES\n",
        "# =========================================================================\n",
        "def ajuste_fino(horario, nao_alocados):\n",
        "    \"\"\"\n",
        "    Para cada pedido que ainda não teve todos os tempos alocados, tenta forçar\n",
        "    a alocação em dias distintos (preferencialmente, sem repetir dia) – isto é,\n",
        "    para cada turma, se o professor não tiver aula naquele dia, aloca no próximo slot\n",
        "    disponível (que, por definição, é len(alocações)+1, garantindo consecutividade).\n",
        "    Se ainda sobrar, permite a repetição do mesmo dia.\n",
        "    \"\"\"\n",
        "    for ped, ch_rest in nao_alocados:\n",
        "        # Primeiro, tentar alocar em dias ainda não usados pela demanda\n",
        "        for d in dias_semana:\n",
        "            if ch_rest <= 0:\n",
        "                break\n",
        "            # Se o professor já não foi alocado na turma nesse dia, tente forçar\n",
        "            if not professor_turma_ja_usou_dia(horario, ped, d):\n",
        "                alocs = horario[ped.turno][ped.nivel][d][(ped.serie, ped.turma)]\n",
        "                proximo_slot = len(alocs) + 1\n",
        "                if proximo_slot <= max(tempos):\n",
        "                    if professor_disponivel(ped.prof, ped.turno, d, proximo_slot) and not professor_ocupado_esse_tempo(horario, ped.prof, ped.turno, ped.nivel, d, proximo_slot):\n",
        "                        alocar_1tempo(horario, ped, d, proximo_slot)\n",
        "                        ch_rest -= 1\n",
        "        # Se ainda sobrar, permitir repetição (forçando a alocação mesmo que já haja aula nesse dia)\n",
        "        if ch_rest > 0:\n",
        "            for d in dias_semana:\n",
        "                if ch_rest <= 0:\n",
        "                    break\n",
        "                alocs = horario[ped.turno][ped.nivel][d][(ped.serie, ped.turma)]\n",
        "                proximo_slot = len(alocs) + 1\n",
        "                if proximo_slot <= max(tempos):\n",
        "                    if professor_disponivel(ped.prof, ped.turno, d, proximo_slot) and not professor_ocupado_esse_tempo(horario, ped.prof, ped.turno, ped.nivel, d, proximo_slot):\n",
        "                        alocar_1tempo(horario, ped, d, proximo_slot)\n",
        "                        ch_rest -= 1\n",
        "        # Se ainda sobrar, a demanda permanece não alocada.\n",
        "    return horario"
      ],
      "metadata": {
        "id": "2yO7PF5BBa7s"
      },
      "execution_count": 16,
      "outputs": []
    },
    {
      "cell_type": "code",
      "source": [
        "# Aplica o ajuste fino se houver sobras\n",
        "if menor_sobra > 0:\n",
        "    print(\"Aplicando ajuste fino para encaixar os tempos remanescentes...\")\n",
        "    melhor_horario = ajuste_fino(melhor_horario, melhor_nao_alocados)\n",
        "    # Recalcula sobras:\n",
        "    novos_nao = alocar_demanda(melhor_horario, demanda)\n",
        "    nova_sobra = sum(x[1] for x in novos_nao)\n",
        "    print(f\"Após ajuste fino, sobram {nova_sobra} tempos não alocados.\")\n",
        "else:\n",
        "    print(\"Nenhum tempo remanescente a ajustar.\")"
      ],
      "metadata": {
        "colab": {
          "base_uri": "https://localhost:8080/"
        },
        "id": "oH-imvGKBdpd",
        "outputId": "56dae3f3-e701-4f7e-acbc-427f91f208db"
      },
      "execution_count": 17,
      "outputs": [
        {
          "output_type": "stream",
          "name": "stdout",
          "text": [
            "Aplicando ajuste fino para encaixar os tempos remanescentes...\n",
            "Após ajuste fino, sobram 94 tempos não alocados.\n"
          ]
        }
      ]
    },
    {
      "cell_type": "code",
      "source": [
        "# =========================================================================\n",
        "# 8) VERIFICAÇÃO: CALCULA TOTAL DE SLOTS VAZIOS NO QUADRO FINAL\n",
        "# =========================================================================\n",
        "def conta_alocacoes(horario):\n",
        "    used = 0\n",
        "    for tnr in horario:\n",
        "        for niv in horario[tnr]:\n",
        "            for d in dias_semana:\n",
        "                for (sa, tu), dic in horario[tnr][niv][d].items():\n",
        "                    used += len(dic)\n",
        "    return used\n",
        "\n",
        "# Supondo que cada turma tem 25 slots (5 dias x 5 tempos)\n",
        "turmas_set = set((p.serie, p.turma) for p in demanda)\n",
        "total_slots = len(turmas_set) * 25\n",
        "usados = conta_alocacoes(melhor_horario)\n",
        "tempos_vazios = total_slots - usados\n",
        "print(\"----------------------------------------------\")\n",
        "print(f\"Total de turmas: {len(turmas_set)} => {total_slots} slots disponíveis.\")\n",
        "print(f\"Slots usados: {usados}\")\n",
        "print(f\"Tempos vazios (slots não preenchidos): {tempos_vazios}\")\n",
        "print(\"----------------------------------------------\")"
      ],
      "metadata": {
        "colab": {
          "base_uri": "https://localhost:8080/"
        },
        "id": "kjiw6Qt9BgKZ",
        "outputId": "fb0a82c2-408f-417b-97fd-d244cc246a05"
      },
      "execution_count": 14,
      "outputs": [
        {
          "output_type": "stream",
          "name": "stdout",
          "text": [
            "----------------------------------------------\n",
            "Total de turmas: 20 => 500 slots disponíveis.\n",
            "Slots usados: 403\n",
            "Tempos vazios (slots não preenchidos): 97\n",
            "----------------------------------------------\n"
          ]
        }
      ]
    },
    {
      "cell_type": "code",
      "source": [
        "# =========================================================================\n",
        "# 9) EXPORTAÇÃO: GERA PLANILHAS FINAL\n",
        "#    (A) QUADRO DE HORÁRIOS POR TURMA (abas por (TURNO, NIVEL))\n",
        "#    (B) QUADRO DE HORÁRIOS POR PROFESSOR (aba por professor)\n",
        "#    (C) LISTA DE TEMPOS NÃO ALOCADOS (detalhado)\n",
        "# =========================================================================\n",
        "\n",
        "def gera_df_por_turma(horario):\n",
        "    colunas_por_tn = defaultdict(set)\n",
        "    for tnr in horario:\n",
        "        for niv in horario[tnr]:\n",
        "            for d in dias_semana:\n",
        "                for (sa, tu), dic in horario[tnr][niv][d].items():\n",
        "                    colunas_por_tn[(tnr,niv)].add(f\"{sa}-{tu}\")\n",
        "    dfs_por_aba = {}\n",
        "    for tnr in horario:\n",
        "        for niv in horario[tnr]:\n",
        "            turmas_cols = sorted(list(colunas_por_tn[(tnr,niv)]))\n",
        "            linhas = []\n",
        "            for d in dias_semana:\n",
        "                for tm in tempos:\n",
        "                    row_dict = {\n",
        "                        \"TURNO\": tnr,\n",
        "                        \"NIVEL\": niv,\n",
        "                        \"DIA\": d,\n",
        "                        \"TEMPO\": tm\n",
        "                    }\n",
        "                    for col in turmas_cols:\n",
        "                        row_dict[col] = \"\"\n",
        "                    for (sa, tu), dic in horario[tnr][niv][d].items():\n",
        "                        if tm in dic:\n",
        "                            (p, ds) = dic[tm]\n",
        "                            col_name = f\"{sa}-{tu}\"\n",
        "                            row_dict[col_name] = f\"{p}+{ds}\"\n",
        "                    linhas.append(row_dict)\n",
        "            df_aba = pd.DataFrame(linhas)\n",
        "            dfs_por_aba[f\"{tnr}_{niv}\"] = df_aba\n",
        "    return dfs_por_aba\n",
        "\n",
        "def gera_df_por_professor(horario):\n",
        "    prof_data = defaultdict(lambda: defaultdict(list))\n",
        "    prof_cols = defaultdict(set)\n",
        "    for tnr in horario:\n",
        "        for niv in horario[tnr]:\n",
        "            for d in dias_semana:\n",
        "                for (sa, tu), dic in horario[tnr][niv][d].items():\n",
        "                    for tm, (p, ds) in dic.items():\n",
        "                        col = f\"{sa}-{tu}({ds})\"\n",
        "                        prof_cols[p].add(col)\n",
        "                        prof_data[p][(d,tm)].append( (tnr, niv, sa, tu, ds) )\n",
        "    dfs_por_prof = {}\n",
        "    for p in prof_data:\n",
        "        cols = sorted(list(prof_cols[p]))\n",
        "        linhas = []\n",
        "        for d in dias_semana:\n",
        "            for tm in tempos:\n",
        "                row_dict = {\n",
        "                    \"PROFESSOR\": p,\n",
        "                    \"DIA\": d,\n",
        "                    \"TEMPO\": tm\n",
        "                }\n",
        "                for c in cols:\n",
        "                    row_dict[c] = \"\"\n",
        "                if (d,tm) in prof_data[p]:\n",
        "                    for (tnr, niv, sa, tu, ds) in prof_data[p][(d,tm)]:\n",
        "                        cname = f\"{sa}-{tu}({ds})\"\n",
        "                        row_dict[cname] = f\"{tnr}-{niv}\"\n",
        "                linhas.append(row_dict)\n",
        "        df_p = pd.DataFrame(linhas)\n",
        "        dfs_por_prof[p] = df_p\n",
        "    return dfs_por_prof\n",
        "\n",
        "# Gerar planilhas\n",
        "dfs_turma = gera_df_por_turma(melhor_horario)\n",
        "dfs_prof = gera_df_por_professor(melhor_horario)\n",
        "\n",
        "with pd.ExcelWriter(\"QUADRO_HORARIOS_TURMAS.xlsx\") as writer:\n",
        "    for aba, df_ in dfs_turma.items():\n",
        "        df_.to_excel(writer, sheet_name=aba[:31], index=False)\n",
        "\n",
        "with pd.ExcelWriter(\"QUADRO_HORARIOS_PROFESSORES.xlsx\") as writer:\n",
        "    for p, df_ in dfs_prof.items():\n",
        "        sheetname = p[:31]\n",
        "        df_.to_excel(writer, sheet_name=sheetname, index=False)\n",
        "\n",
        "with pd.ExcelWriter(\"NAO_ALOCADOS_DETALHADO.xlsx\") as writer:\n",
        "    df_vaz = pd.DataFrame(vazios_detalhe) if 'vazios_detalhe' in globals() else pd.DataFrame()\n",
        "    df_na = pd.DataFrame([{\n",
        "        \"SERVIDOR\": ped.prof,\n",
        "        \"DISCIPLINA\": ped.disc,\n",
        "        \"TURNO\": ped.turno,\n",
        "        \"NIVEL\": ped.nivel,\n",
        "        \"SERIE\": ped.serie,\n",
        "        \"TURMA\": ped.turma,\n",
        "        \"NAO_ALOCADO\": c\n",
        "    } for (ped, c) in melhor_nao_alocados if c > 0])\n",
        "    # Juntar ambos (se houver vazios detalhados)\n",
        "    df_comb = pd.concat([df_na, df_vaz], axis=0) if not df_vaz.empty else df_na\n",
        "    df_comb.to_excel(writer, sheet_name=\"NAO_ALOCADOS\", index=False)\n",
        "\n",
        "print(\"Arquivos gerados:\")\n",
        "print(\" - QUADRO_HORARIOS_TURMAS.xlsx (uma aba por Turno_Nivel)\")\n",
        "print(\" - QUADRO_HORARIOS_PROFESSORES.xlsx (uma aba por professor)\")\n",
        "print(\" - NAO_ALOCADOS_DETALHADO.xlsx (lista detalhada dos slots vazios e demandas não alocadas)\")"
      ],
      "metadata": {
        "id": "_JWr2PaeBi3O"
      },
      "execution_count": null,
      "outputs": []
    }
  ]
}